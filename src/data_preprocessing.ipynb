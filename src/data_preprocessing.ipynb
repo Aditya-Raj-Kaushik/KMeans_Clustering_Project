{
    "cells": [
     {
      "cell_type": "code",
      "execution_count": 1,
      "metadata": {},
      "outputs": [],
      "source": [
       "import pandas as pd\n",
       "from sklearn.preprocessing import LabelEncoder, StandardScaler\n",
       "from pathlib import Path"
      ]
     },
     {
      "cell_type": "code",
      "execution_count": 2,
      "metadata": {},
      "outputs": [],
      "source": [
       "def load_data(filepath):\n",
       "    return pd.read_csv(Path(filepath))\n",
       "input_file = Path(\"../data/dataset_clustering_project.csv\")\n",
       "df = load_data(input_file)\n",
       "df.head()"
      ]
     },
     {
      "cell_type": "code",
      "execution_count": 3,
      "metadata": {},
      "outputs": [],
      "source": [
       "def preprocess_data(df):\n",
       "    df = df.drop(columns=['CustomerID'], errors='ignore')\n",
       "    if 'Gender' in df.columns:\n",
       "        le = LabelEncoder()\n",
       "        df['Gender'] = le.fit_transform(df['Gender'])\n",
       "    \n",
       "    df = df.fillna(df.median())\n",
       "    \n",
       "    scaler = StandardScaler()\n",
       "    df[['Age','income','credit score']] = scaler.fit_transform(df[['Age', 'income', 'credit score']])\n",
       "    return df\n",
       "\n",
       "df_cleaned = preprocess_data(df)\n",
       "df_cleaned.head()"
      ]
     },
     {
      "cell_type": "code",
      "execution_count": 4,
      "metadata": {},
      "outputs": [],
      "source": [
       "def save_processed_data(df, output_filepath):\n",
       "    df.to_csv(Path(output_filepath), index=False)\n",
       "    print(f\"Preprocessed data saved to {output_filepath}\")\n",
       "\n",
       "output_filepath = Path(\"../data/preprocessed_data.csv\")\n",
       "save_processed_data(df_cleaned, output_filepath)"
      ]
     }
    ],
    "metadata": {
     "kernelspec": {
      "display_name": "env",
      "language": "python",
      "name": "python3"
     },
     "language_info": {
      "name": "python",
      "version": "3.10.16"
     }
    },
    "nbformat": 4,
    "nbformat_minor": 2
   }
   